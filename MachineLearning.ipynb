{
  "nbformat": 4,
  "nbformat_minor": 0,
  "metadata": {
    "colab": {
      "name": "MachineLearning.ipynb",
      "provenance": [],
      "collapsed_sections": [],
      "authorship_tag": "ABX9TyMq5Qn8JLYTFN1yKVsaLPUD",
      "include_colab_link": true
    },
    "kernelspec": {
      "name": "python3",
      "display_name": "Python 3"
    }
  },
  "cells": [
    {
      "cell_type": "markdown",
      "metadata": {
        "id": "view-in-github",
        "colab_type": "text"
      },
      "source": [
        "<a href=\"https://colab.research.google.com/github/normidar/Ai-Codes/blob/master/MachineLearning.ipynb\" target=\"_parent\"><img src=\"https://colab.research.google.com/assets/colab-badge.svg\" alt=\"Open In Colab\"/></a>"
      ]
    },
    {
      "cell_type": "code",
      "metadata": {
        "id": "-rD0-BR0gOU0",
        "colab_type": "code",
        "colab": {}
      },
      "source": [
        "from sklearn import svm\n",
        "# from sklearn.metrics import accuracy_score"
      ],
      "execution_count": null,
      "outputs": []
    },
    {
      "cell_type": "code",
      "metadata": {
        "id": "nLHj_2kVhhjz",
        "colab_type": "code",
        "colab": {}
      },
      "source": [
        "#学習数据\n",
        "train = [[0,0,0],[1,1,1],[8,8,8],[3,3,3],[1,0,1],[9,8,9],[5,4,5],[6,5,6],[4,3,4],[7,6,7],[0,1,0],[3,2,1],[1,2,3],[2,2,2],[2,6,8],[5,5,5],[8,3,8],[7,6,7],[3,2,3],[1,9,1],[2,3,2],[7,8,7],[8,9,8],[1,6,1],[5,6,5]] \n",
        "kotae = [ 1,    1,      1,      1,     0,      0,      0,     0,      0,      0,      2,      4,      3,      1,      3,      1,      0,      0,      0,      2,      2,      2,      2,      2,      2]\n",
        "\n"
      ],
      "execution_count": null,
      "outputs": []
    },
    {
      "cell_type": "code",
      "metadata": {
        "id": "jH-ZWJiniN7n",
        "colab_type": "code",
        "colab": {
          "base_uri": "https://localhost:8080/",
          "height": 85
        },
        "outputId": "0adf9f65-202a-4145-ec2b-d5bf05a2f2ad"
      },
      "source": [
        "#学習\n",
        "clf = svm.SVC(C=10,gamma=0.1)\n",
        "clf.fit(train,kotae)\n",
        "\n"
      ],
      "execution_count": null,
      "outputs": [
        {
          "output_type": "execute_result",
          "data": {
            "text/plain": [
              "SVC(C=10, break_ties=False, cache_size=200, class_weight=None, coef0=0.0,\n",
              "    decision_function_shape='ovr', degree=3, gamma=0.1, kernel='rbf',\n",
              "    max_iter=-1, probability=False, random_state=None, shrinking=True,\n",
              "    tol=0.001, verbose=False)"
            ]
          },
          "metadata": {
            "tags": []
          },
          "execution_count": 3
        }
      ]
    },
    {
      "cell_type": "code",
      "metadata": {
        "id": "C-2A7xNwiycM",
        "colab_type": "code",
        "colab": {
          "base_uri": "https://localhost:8080/",
          "height": 34
        },
        "outputId": "22e78aa1-d365-4e6f-8b60-4f26505fe722"
      },
      "source": [
        "#创建测试数据\n",
        "test = [] \n",
        "for i in range(10):\n",
        "  test.append([i,i+1,i+2])\n",
        "t = 3\n",
        "\n",
        "#测试\n",
        "tkotae = clf.predict(test)\n",
        "ist = 0\n",
        "for i in tkotae:\n",
        "  if i == t:\n",
        "    ist+=1\n",
        "print(ist/10)"
      ],
      "execution_count": null,
      "outputs": [
        {
          "output_type": "stream",
          "text": [
            "0.3\n"
          ],
          "name": "stdout"
        }
      ]
    },
    {
      "cell_type": "code",
      "metadata": {
        "id": "y8Mx4roiWyEp",
        "colab_type": "code",
        "colab": {}
      },
      "source": [
        "clf.parti"
      ],
      "execution_count": null,
      "outputs": []
    }
  ]
}