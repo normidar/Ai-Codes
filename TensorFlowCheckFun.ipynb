{
  "nbformat": 4,
  "nbformat_minor": 0,
  "metadata": {
    "colab": {
      "name": "TensorFlowCheckFun.ipynb",
      "provenance": [],
      "authorship_tag": "ABX9TyNeNl/hLa6f0+e1BG5wrjQm",
      "include_colab_link": true
    },
    "kernelspec": {
      "name": "python3",
      "display_name": "Python 3"
    }
  },
  "cells": [
    {
      "cell_type": "markdown",
      "metadata": {
        "id": "view-in-github",
        "colab_type": "text"
      },
      "source": [
        "<a href=\"https://colab.research.google.com/github/normidar/Ai-Codes/blob/master/TensorFlowCheckFun.ipynb\" target=\"_parent\"><img src=\"https://colab.research.google.com/assets/colab-badge.svg\" alt=\"Open In Colab\"/></a>"
      ]
    },
    {
      "cell_type": "markdown",
      "metadata": {
        "id": "TJpz2UhPubqD",
        "colab_type": "text"
      },
      "source": [
        "# 利用线性回归进行推测数字"
      ]
    },
    {
      "cell_type": "code",
      "metadata": {
        "id": "nKCD9kYn7QCq",
        "colab_type": "code",
        "colab": {}
      },
      "source": [
        "import tensorflow as tf\n",
        "# input_shape所指示的是输入数据的大小，这里指示的是一个数字\n",
        "p = tf.keras.layers.Dense(units=1,input_shape = [1])\n",
        "model = tf.keras.Sequential([p])"
      ],
      "execution_count": null,
      "outputs": []
    },
    {
      "cell_type": "code",
      "metadata": {
        "id": "U0045qk1KCyX",
        "colab_type": "code",
        "colab": {}
      },
      "source": [
        "# 下面是指定损失函数以及优化函数\n",
        "# 损失函数用来判定结果是否准确，而优化函数会在不准确时更换新的运算法\n",
        "model.compile(optimizer='sgd', loss='mean_squared_error')\n",
        "# 就是利用这两种函数，使我们渐渐接近正确答案"
      ],
      "execution_count": null,
      "outputs": []
    },
    {
      "cell_type": "code",
      "metadata": {
        "id": "rIgAOCErLP_v",
        "colab_type": "code",
        "colab": {}
      },
      "source": [
        "import numpy as np\n",
        "# 定义数据\n",
        "x= np.array([-1.0, 0.0,1.0,2.0,3.0,4.0],dtype=float)\n",
        "y= np.array([-3.0,-1.0,1.0,3.0,5.0,7.0],dtype=float)"
      ],
      "execution_count": null,
      "outputs": []
    },
    {
      "cell_type": "code",
      "metadata": {
        "id": "RiT641YDMKpW",
        "colab_type": "code",
        "colab": {}
      },
      "source": [
        "# 进行500次的推测\n",
        "model.fit(x,y,epochs=500)"
      ],
      "execution_count": null,
      "outputs": []
    },
    {
      "cell_type": "code",
      "metadata": {
        "id": "230UmNuDM9zl",
        "colab_type": "code",
        "colab": {
          "base_uri": "https://localhost:8080/",
          "height": 34
        },
        "outputId": "1b1263f6-7e1d-412e-e7c5-ab81190ac760"
      },
      "source": [
        "print(model.predict([10.0]))"
      ],
      "execution_count": null,
      "outputs": [
        {
          "output_type": "stream",
          "text": [
            "[[18.999866]]\n"
          ],
          "name": "stdout"
        }
      ]
    }
  ]
}