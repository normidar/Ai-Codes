{
  "nbformat": 4,
  "nbformat_minor": 0,
  "metadata": {
    "colab": {
      "name": "Linear regression.ipynb",
      "provenance": [],
      "authorship_tag": "ABX9TyM3E2i9CKK7GhimKrTAb2AY",
      "include_colab_link": true
    },
    "kernelspec": {
      "name": "python3",
      "display_name": "Python 3"
    }
  },
  "cells": [
    {
      "cell_type": "markdown",
      "metadata": {
        "id": "view-in-github",
        "colab_type": "text"
      },
      "source": [
        "<a href=\"https://colab.research.google.com/github/normidar/Ai-Codes/blob/master/Linear%20regression.ipynb\" target=\"_parent\"><img src=\"https://colab.research.google.com/assets/colab-badge.svg\" alt=\"Open In Colab\"/></a>"
      ]
    },
    {
      "cell_type": "code",
      "metadata": {
        "id": "T1_N3XlHjNnS",
        "colab_type": "code",
        "colab": {}
      },
      "source": [
        "#数据\n",
        "#温度C、行走运动量km、排尿量cc\n",
        "data = [\n",
        "      [23,1,550],\n",
        "      [28,2,600],\n",
        "      [25,0,350],\n",
        "      [30,5,1120],\n",
        "      [28,0,739],\n",
        "      [25,0,321],\n",
        "      [18,5,498],\n",
        "      [22,0,411],\n",
        "      [19,4,630],\n",
        "      [20,4,880],\n",
        "]\n",
        "#对应的饮水量\n",
        "target = [\n",
        "          720,\n",
        "          801,\n",
        "          582,\n",
        "          1200,\n",
        "          745,\n",
        "          569,\n",
        "          854,\n",
        "          547,\n",
        "          836,\n",
        "          928\n",
        "]"
      ],
      "execution_count": null,
      "outputs": []
    },
    {
      "cell_type": "code",
      "metadata": {
        "id": "Qo6ES5zXhLRx",
        "colab_type": "code",
        "colab": {
          "base_uri": "https://localhost:8080/",
          "height": 85
        },
        "outputId": "8e910513-8fb4-4cc9-ff64-66e9f0e1341b"
      },
      "source": [
        "# 声明训练、测试分割器\n",
        "from sklearn.model_selection import train_test_split\n",
        "\n",
        "xt,x_t,yt,y_t = train_test_split(data,target,test_size = 0.2)\n",
        "print(xt)\n",
        "print(x_t)\n",
        "print(yt)\n",
        "print(y_t)"
      ],
      "execution_count": null,
      "outputs": [
        {
          "output_type": "stream",
          "text": [
            "[[20, 4, 880], [25, 0, 321], [25, 0, 350], [30, 5, 1120], [28, 0, 739], [22, 0, 411], [28, 2, 600], [23, 1, 550]]\n",
            "[[18, 5, 498], [19, 4, 630]]\n",
            "[928, 569, 582, 1200, 745, 547, 801, 720]\n",
            "[854, 836]\n"
          ],
          "name": "stdout"
        }
      ]
    },
    {
      "cell_type": "code",
      "metadata": {
        "id": "bk54zSX1iMXy",
        "colab_type": "code",
        "colab": {
          "base_uri": "https://localhost:8080/",
          "height": 34
        },
        "outputId": "91f17500-bf56-42b8-a684-7aeb3fb82cd7"
      },
      "source": [
        "# 声明下使用线性回归算法\n",
        "from sklearn.linear_model import LinearRegression\n",
        "\n",
        "#训练\n",
        "model = LinearRegression()\n",
        "model.fit(xt,yt)\n",
        "kotae = model.predict(x_t)\n",
        "print(kotae)"
      ],
      "execution_count": null,
      "outputs": [
        {
          "output_type": "stream",
          "text": [
            "[835.94211981 837.22981493]\n"
          ],
          "name": "stdout"
        }
      ]
    }
  ]
}