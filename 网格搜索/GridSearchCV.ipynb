{
  "nbformat": 4,
  "nbformat_minor": 0,
  "metadata": {
    "colab": {
      "name": "GridSearchCV.ipynb",
      "provenance": [],
      "include_colab_link": true
    },
    "kernelspec": {
      "name": "python3",
      "display_name": "Python 3"
    }
  },
  "cells": [
    {
      "cell_type": "markdown",
      "metadata": {
        "id": "view-in-github",
        "colab_type": "text"
      },
      "source": [
        "<a href=\"https://colab.research.google.com/github/normidar/Ai-Codes/blob/master/GridSearchCV.ipynb\" target=\"_parent\"><img src=\"https://colab.research.google.com/assets/colab-badge.svg\" alt=\"Open In Colab\"/></a>"
      ]
    },
    {
      "cell_type": "code",
      "metadata": {
        "id": "XWIzuqUID00P",
        "colab_type": "code",
        "colab": {
          "base_uri": "https://localhost:8080/",
          "height": 51
        },
        "outputId": "bb285119-d613-4455-f9a1-b1d54d25435d"
      },
      "source": [
        "# 获得数据\n",
        "from sklearn import datasets\n",
        "# 手写数字数据集\n",
        "data = datasets.load_digits()\n",
        "print(len(data.data))\n",
        "print(len(data.data[0]))\n"
      ],
      "execution_count": null,
      "outputs": [
        {
          "output_type": "stream",
          "text": [
            "1797\n",
            "64\n"
          ],
          "name": "stdout"
        }
      ]
    },
    {
      "cell_type": "code",
      "metadata": {
        "id": "M_e220v2EBZ6",
        "colab_type": "code",
        "colab": {
          "base_uri": "https://localhost:8080/",
          "height": 34
        },
        "outputId": "a39a6820-372a-497e-9cda-3e3774b71741"
      },
      "source": [
        "from sklearn.model_selection import train_test_split\n",
        "# 数据分割\n",
        "xt, x_t, yt, y_t = train_test_split(data.data, data.target, test_size=0.2)\n",
        "print(len(y_t))"
      ],
      "execution_count": null,
      "outputs": [
        {
          "output_type": "stream",
          "text": [
            "360\n"
          ],
          "name": "stdout"
        }
      ]
    },
    {
      "cell_type": "code",
      "metadata": {
        "id": "Qs7OxA9rIr6l",
        "colab_type": "code",
        "colab": {
          "base_uri": "https://localhost:8080/",
          "height": 255
        },
        "outputId": "39a687e1-8167-43e8-c645-5975948ec600"
      },
      "source": [
        "from sklearn.svm import SVC\n",
        "from sklearn.model_selection import GridSearchCV\n",
        "# 这句代码设定准备测试的参数集，直接复制即可，后面会选出最优参数\n",
        "parameters = {'kernel':('linear', 'rbf'), 'C':[0.1, 1.0, 10.0], \n",
        "              'gamma':[0.01, 0.1, 1.0, 10.0], 'decision_function_shape':('ovo', 'ovr')}\n",
        "\n",
        "# 执行像素搜索，会在fit的时候自动从上面的参数中选择最优参数，scoring='accuracy'就是标记使用此功能\n",
        "# cv是交叉验证的次数，实际上默认值也是5，所以可以省略\n",
        "clf = GridSearchCV(SVC(), parameters, scoring='accuracy', cv=5)\n",
        "clf.fit(xt, yt)"
      ],
      "execution_count": null,
      "outputs": [
        {
          "output_type": "execute_result",
          "data": {
            "text/plain": [
              "GridSearchCV(cv=5, error_score=nan,\n",
              "             estimator=SVC(C=1.0, break_ties=False, cache_size=200,\n",
              "                           class_weight=None, coef0=0.0,\n",
              "                           decision_function_shape='ovr', degree=3,\n",
              "                           gamma='scale', kernel='rbf', max_iter=-1,\n",
              "                           probability=False, random_state=None, shrinking=True,\n",
              "                           tol=0.001, verbose=False),\n",
              "             iid='deprecated', n_jobs=None,\n",
              "             param_grid={'C': [0.1, 1.0, 10.0],\n",
              "                         'decision_function_shape': ('ovo', 'ovr'),\n",
              "                         'gamma': [0.01, 0.1, 1.0, 10.0],\n",
              "                         'kernel': ('linear', 'rbf')},\n",
              "             pre_dispatch='2*n_jobs', refit=True, return_train_score=False,\n",
              "             scoring='accuracy', verbose=0)"
            ]
          },
          "metadata": {
            "tags": []
          },
          "execution_count": 10
        }
      ]
    },
    {
      "cell_type": "code",
      "metadata": {
        "id": "Sfw0Y4HrPfaK",
        "colab_type": "code",
        "colab": {
          "base_uri": "https://localhost:8080/",
          "height": 51
        },
        "outputId": "6c505031-7d71-4fe7-c0c5-20bc04e7325c"
      },
      "source": [
        "# 打印下最优 分数和参数 利用交叉验证进行 评分评参\n",
        "print('Accuracy =', clf.best_score_)\n",
        "print(clf.best_params_)"
      ],
      "execution_count": null,
      "outputs": [
        {
          "output_type": "stream",
          "text": [
            "Accuracy = 0.9756533101045296\n",
            "{'C': 0.1, 'decision_function_shape': 'ovo', 'gamma': 0.01, 'kernel': 'linear'}\n"
          ],
          "name": "stdout"
        }
      ]
    },
    {
      "cell_type": "code",
      "metadata": {
        "id": "TO4PVGXFTRh9",
        "colab_type": "code",
        "colab": {
          "base_uri": "https://localhost:8080/",
          "height": 34
        },
        "outputId": "d488d4e8-3d6f-4e9e-bc45-b8b8cd6e6d6c"
      },
      "source": [
        "# 对模组进行正确率评分\n",
        "clf.score(x_t,y_t)"
      ],
      "execution_count": null,
      "outputs": [
        {
          "output_type": "execute_result",
          "data": {
            "text/plain": [
              "0.9916666666666667"
            ]
          },
          "metadata": {
            "tags": []
          },
          "execution_count": 12
        }
      ]
    },
    {
      "cell_type": "code",
      "metadata": {
        "id": "y2h24vEGWfe3",
        "colab_type": "code",
        "colab": {
          "base_uri": "https://localhost:8080/",
          "height": 309
        },
        "outputId": "d2b08b95-5e83-4ebd-ba54-bd9948460172"
      },
      "source": [
        "import numpy as np\n",
        "# 绘图工具\n",
        "import matplotlib.pyplot as plt\n",
        "# 这一句使得输出器可以绘图\n",
        "%matplotlib inline\n",
        "\n",
        "# 可视化查看数据\n",
        "# 指定一个360以内的索引\n",
        "number = 200\n",
        "dat = np.array([x_t[number]])\n",
        "# 利用模组推测是哪个数字\n",
        "print(clf.predict(dat))\n",
        "# 显示图像\n",
        "plt.matshow(dat.reshape(8,8))\n",
        "# 显示答案（target）\n",
        "print(y_t[number])"
      ],
      "execution_count": null,
      "outputs": [
        {
          "output_type": "stream",
          "text": [
            "[1]\n",
            "1\n"
          ],
          "name": "stdout"
        },
        {
          "output_type": "display_data",
          "data": {
            "image/png": "[encoded data removed]",
            "text/plain": [
              "<Figure size 288x288 with 1 Axes>"
            ]
          },
          "metadata": {
            "tags": [],
            "needs_background": "light"
          }
        }
      ]
    },
    {
      "cell_type": "code",
      "metadata": {
        "id": "kTV2yUPqZQVj",
        "colab_type": "code",
        "colab": {
          "base_uri": "https://localhost:8080/",
          "height": 170
        },
        "outputId": "016e55a8-277c-4eaa-9584-f404decf0dc8"
      },
      "source": [
        "# 寻找错误项\n",
        "for i in range(360):\n",
        "  kotae = clf.predict([x_t[i]])\n",
        "  if kotae != y_t[i]:\n",
        "    print(i)\n",
        "    print(kotae)\n",
        "    print(y_t[i])"
      ],
      "execution_count": null,
      "outputs": [
        {
          "output_type": "stream",
          "text": [
            "5\n",
            "[4]\n",
            "7\n",
            "78\n",
            "[9]\n",
            "3\n",
            "308\n",
            "[8]\n",
            "1\n"
          ],
          "name": "stdout"
        }
      ]
    },
    {
      "cell_type": "code",
      "metadata": {
        "id": "w8auOHiAs0ba",
        "colab_type": "code",
        "colab": {}
      },
      "source": [
        ""
      ],
      "execution_count": null,
      "outputs": []
    }
  ]
}